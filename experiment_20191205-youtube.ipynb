{
 "cells": [
  {
   "cell_type": "markdown",
   "metadata": {},
   "source": [
    "# Experiment with YouTube Data\n",
    "\n"
   ]
  },
  {
   "cell_type": "code",
   "execution_count": 1,
   "metadata": {},
   "outputs": [],
   "source": [
    "import pandas as pd\n",
    "\n",
    "import matplotlib.pyplot as plt\n",
    "%matplotlib inline\n",
    "plt.style.use('fivethirtyeight')"
   ]
  },
  {
   "cell_type": "code",
   "execution_count": 2,
   "metadata": {},
   "outputs": [
    {
     "data": {
      "text/html": [
       "<div>\n",
       "<style scoped>\n",
       "    .dataframe tbody tr th:only-of-type {\n",
       "        vertical-align: middle;\n",
       "    }\n",
       "\n",
       "    .dataframe tbody tr th {\n",
       "        vertical-align: top;\n",
       "    }\n",
       "\n",
       "    .dataframe thead th {\n",
       "        text-align: right;\n",
       "    }\n",
       "</style>\n",
       "<table border=\"1\" class=\"dataframe\">\n",
       "  <thead>\n",
       "    <tr style=\"text-align: right;\">\n",
       "      <th></th>\n",
       "      <th>AUTHOR</th>\n",
       "      <th>DATE</th>\n",
       "      <th>CONTENT</th>\n",
       "      <th>CLASS</th>\n",
       "    </tr>\n",
       "    <tr>\n",
       "      <th>COMMENT_ID</th>\n",
       "      <th></th>\n",
       "      <th></th>\n",
       "      <th></th>\n",
       "      <th></th>\n",
       "    </tr>\n",
       "  </thead>\n",
       "  <tbody>\n",
       "    <tr>\n",
       "      <th>LZQPQhLyRh80UYxNuaDWhIGQYNQ96IuCg-AYWqNPjpU</th>\n",
       "      <td>Julius NM</td>\n",
       "      <td>2013-11-07T06:20:48</td>\n",
       "      <td>Huh, anyway check out this you[tube] channel: ...</td>\n",
       "      <td>1</td>\n",
       "    </tr>\n",
       "    <tr>\n",
       "      <th>LZQPQhLyRh_C2cTtd9MvFRJedxydaVW-2sNg5Diuo4A</th>\n",
       "      <td>adam riyati</td>\n",
       "      <td>2013-11-07T12:37:15</td>\n",
       "      <td>Hey guys check out my new channel and our firs...</td>\n",
       "      <td>1</td>\n",
       "    </tr>\n",
       "    <tr>\n",
       "      <th>LZQPQhLyRh9MSZYnf8djyk0gEF9BHDPYrrK-qCczIY8</th>\n",
       "      <td>Evgeny Murashkin</td>\n",
       "      <td>2013-11-08T17:34:21</td>\n",
       "      <td>just for test I have to say murdev.com</td>\n",
       "      <td>1</td>\n",
       "    </tr>\n",
       "    <tr>\n",
       "      <th>z13jhp0bxqncu512g22wvzkasxmvvzjaz04</th>\n",
       "      <td>ElNino Melendez</td>\n",
       "      <td>2013-11-09T08:28:43</td>\n",
       "      <td>me shaking my sexy ass on my channel enjoy ^_^ ﻿</td>\n",
       "      <td>1</td>\n",
       "    </tr>\n",
       "    <tr>\n",
       "      <th>z13fwbwp1oujthgqj04chlngpvzmtt3r3dw</th>\n",
       "      <td>GsMega</td>\n",
       "      <td>2013-11-10T16:05:38</td>\n",
       "      <td>watch?v=vtaRGgvGtWQ   Check this out .﻿</td>\n",
       "      <td>1</td>\n",
       "    </tr>\n",
       "  </tbody>\n",
       "</table>\n",
       "</div>"
      ],
      "text/plain": [
       "                                                       AUTHOR  \\\n",
       "COMMENT_ID                                                      \n",
       "LZQPQhLyRh80UYxNuaDWhIGQYNQ96IuCg-AYWqNPjpU         Julius NM   \n",
       "LZQPQhLyRh_C2cTtd9MvFRJedxydaVW-2sNg5Diuo4A       adam riyati   \n",
       "LZQPQhLyRh9MSZYnf8djyk0gEF9BHDPYrrK-qCczIY8  Evgeny Murashkin   \n",
       "z13jhp0bxqncu512g22wvzkasxmvvzjaz04           ElNino Melendez   \n",
       "z13fwbwp1oujthgqj04chlngpvzmtt3r3dw                    GsMega   \n",
       "\n",
       "                                                            DATE  \\\n",
       "COMMENT_ID                                                         \n",
       "LZQPQhLyRh80UYxNuaDWhIGQYNQ96IuCg-AYWqNPjpU  2013-11-07T06:20:48   \n",
       "LZQPQhLyRh_C2cTtd9MvFRJedxydaVW-2sNg5Diuo4A  2013-11-07T12:37:15   \n",
       "LZQPQhLyRh9MSZYnf8djyk0gEF9BHDPYrrK-qCczIY8  2013-11-08T17:34:21   \n",
       "z13jhp0bxqncu512g22wvzkasxmvvzjaz04          2013-11-09T08:28:43   \n",
       "z13fwbwp1oujthgqj04chlngpvzmtt3r3dw          2013-11-10T16:05:38   \n",
       "\n",
       "                                                                                       CONTENT  \\\n",
       "COMMENT_ID                                                                                       \n",
       "LZQPQhLyRh80UYxNuaDWhIGQYNQ96IuCg-AYWqNPjpU  Huh, anyway check out this you[tube] channel: ...   \n",
       "LZQPQhLyRh_C2cTtd9MvFRJedxydaVW-2sNg5Diuo4A  Hey guys check out my new channel and our firs...   \n",
       "LZQPQhLyRh9MSZYnf8djyk0gEF9BHDPYrrK-qCczIY8             just for test I have to say murdev.com   \n",
       "z13jhp0bxqncu512g22wvzkasxmvvzjaz04           me shaking my sexy ass on my channel enjoy ^_^ ﻿   \n",
       "z13fwbwp1oujthgqj04chlngpvzmtt3r3dw                    watch?v=vtaRGgvGtWQ   Check this out .﻿   \n",
       "\n",
       "                                             CLASS  \n",
       "COMMENT_ID                                          \n",
       "LZQPQhLyRh80UYxNuaDWhIGQYNQ96IuCg-AYWqNPjpU      1  \n",
       "LZQPQhLyRh_C2cTtd9MvFRJedxydaVW-2sNg5Diuo4A      1  \n",
       "LZQPQhLyRh9MSZYnf8djyk0gEF9BHDPYrrK-qCczIY8      1  \n",
       "z13jhp0bxqncu512g22wvzkasxmvvzjaz04              1  \n",
       "z13fwbwp1oujthgqj04chlngpvzmtt3r3dw              1  "
      ]
     },
     "execution_count": 2,
     "metadata": {},
     "output_type": "execute_result"
    }
   ],
   "source": [
    "review_df = pd.read_csv('./data/spam_data.csv', index_col=0)\n",
    "review_df.head()"
   ]
  },
  {
   "cell_type": "code",
   "execution_count": 3,
   "metadata": {},
   "outputs": [
    {
     "data": {
      "text/plain": [
       "1792"
      ]
     },
     "execution_count": 3,
     "metadata": {},
     "output_type": "execute_result"
    }
   ],
   "source": [
    "review_df.AUTHOR.nunique()"
   ]
  },
  {
   "cell_type": "code",
   "execution_count": 4,
   "metadata": {},
   "outputs": [
    {
     "data": {
      "text/plain": [
       "(1956, 4)"
      ]
     },
     "execution_count": 4,
     "metadata": {},
     "output_type": "execute_result"
    }
   ],
   "source": [
    "review_df.shape"
   ]
  },
  {
   "cell_type": "markdown",
   "metadata": {},
   "source": [
    "## EDA\n",
    "\n",
    "The data is somewhat imbalanced (89.73% recommended). I split them into two DFs - `rec_df` and `filter_df`."
   ]
  },
  {
   "cell_type": "code",
   "execution_count": 5,
   "metadata": {
    "scrolled": true
   },
   "outputs": [
    {
     "data": {
      "text/plain": [
       "<matplotlib.axes._subplots.AxesSubplot at 0x7f4b6b4a6f98>"
      ]
     },
     "execution_count": 5,
     "metadata": {},
     "output_type": "execute_result"
    },
    {
     "data": {
      "image/png": "[encoded data removed]",
      "text/plain": [
       "<Figure size 432x288 with 1 Axes>"
      ]
     },
     "metadata": {
      "needs_background": "light"
     },
     "output_type": "display_data"
    }
   ],
   "source": [
    "review_df.CLASS.value_counts().plot(kind='bar')"
   ]
  },
  {
   "cell_type": "markdown",
   "metadata": {},
   "source": [
    "## Text Preprocessing\n",
    "\n",
    "In this version, I use `doc2vec` to represent the review texts - since it is analoguos to the PCA used to process numeric data. Each review is then projected to a real-value vector.\n",
    "\n",
    "We should consider using `PCA` and `word2vec`, and maybe pretrained word embedding `GloVe` as baselines."
   ]
  },
  {
   "cell_type": "code",
   "execution_count": 6,
   "metadata": {},
   "outputs": [
    {
     "data": {
      "text/plain": [
       "(1956,)"
      ]
     },
     "execution_count": 6,
     "metadata": {},
     "output_type": "execute_result"
    }
   ],
   "source": [
    "review_text = review_df['CONTENT']\n",
    "review_text.shape"
   ]
  },
  {
   "cell_type": "code",
   "execution_count": 7,
   "metadata": {},
   "outputs": [],
   "source": [
    "from nltk.tokenize import sent_tokenize\n",
    "sent_lst = []\n",
    "for text in review_text:\n",
    "    sent_tokenize_list = sent_tokenize(text)\n",
    "    sent_lst.append(sent_tokenize_list)"
   ]
  },
  {
   "cell_type": "code",
   "execution_count": 8,
   "metadata": {},
   "outputs": [],
   "source": [
    "from nltk import RegexpTokenizer, PorterStemmer, WordNetLemmatizer\n",
    "from nltk.corpus import stopwords\n",
    "from nltk.stem.snowball import SnowballStemmer\n",
    "from nltk.tokenize import sent_tokenize, TweetTokenizer\n",
    "\n",
    "# initialize required modules\n",
    "stemmer = PorterStemmer()\n",
    "lemma = WordNetLemmatizer()\n",
    "tokenizer = RegexpTokenizer(r'\\w+') # for removing punctuations\n",
    "tknzr = TweetTokenizer() # for tokenization\n",
    "stopwords = stopwords.words('english')"
   ]
  },
  {
   "cell_type": "code",
   "execution_count": 9,
   "metadata": {
    "scrolled": true
   },
   "outputs": [
    {
     "data": {
      "text/plain": [
       "[['Huh',\n",
       "  ',',\n",
       "  'anyway',\n",
       "  'check',\n",
       "  'out',\n",
       "  'this',\n",
       "  'you',\n",
       "  '[',\n",
       "  'tube',\n",
       "  ']',\n",
       "  'channel',\n",
       "  ':',\n",
       "  'kobyoshi',\n",
       "  '02'],\n",
       " ['Hey',\n",
       "  'guys',\n",
       "  'check',\n",
       "  'out',\n",
       "  'my',\n",
       "  'new',\n",
       "  'channel',\n",
       "  'and',\n",
       "  'our',\n",
       "  'first',\n",
       "  'vid',\n",
       "  'THIS',\n",
       "  'IS',\n",
       "  'US',\n",
       "  'THE',\n",
       "  'MONKEYS',\n",
       "  '!',\n",
       "  '!',\n",
       "  '!',\n",
       "  \"I'm\",\n",
       "  'the',\n",
       "  'monkey',\n",
       "  'in',\n",
       "  'the',\n",
       "  'white',\n",
       "  'shirt',\n",
       "  ',',\n",
       "  'please',\n",
       "  'leave',\n",
       "  'a',\n",
       "  'like',\n",
       "  'comment',\n",
       "  'and',\n",
       "  'please',\n",
       "  'subscribe',\n",
       "  '!',\n",
       "  '!',\n",
       "  '!',\n",
       "  '!']]"
      ]
     },
     "execution_count": 9,
     "metadata": {},
     "output_type": "execute_result"
    }
   ],
   "source": [
    "sentences = []\n",
    "for ss in sent_lst:\n",
    "    sent = [tknzr.tokenize(s) for s in ss]\n",
    "    tokens = [tok for s in sent for tok in s]\n",
    "    sentences.append(tokens)\n",
    "sentences[:2]"
   ]
  },
  {
   "cell_type": "code",
   "execution_count": 10,
   "metadata": {},
   "outputs": [
    {
     "name": "stdout",
     "output_type": "stream",
     "text": [
      "CPU times: user 1.81 s, sys: 95.2 ms, total: 1.91 s\n",
      "Wall time: 1.91 s\n"
     ]
    }
   ],
   "source": [
    "%%time\n",
    "normalized = []\n",
    "for s in sentences:\n",
    "    #print(s)\n",
    "    stop_free = ' '.join([w.lower() for w in s if w.lower() not in stopwords])\n",
    "    #print(stop_free)\n",
    "    punc_free = tokenizer.tokenize(stop_free)\n",
    "    lemmas = [lemma.lemmatize(w) for w in punc_free]\n",
    "    #print(lemmas)\n",
    "    stems = [stemmer.stem(w) for w in lemmas]\n",
    "    num_free = [x for x in stems if not (x.isdigit() or x[0] == '-' and x[1:].isdigit())]\n",
    "    legit_words = [x for x in num_free if not len(x) < 2]\n",
    "    #print(stems)\n",
    "    #break\n",
    "    normalized.append(legit_words)"
   ]
  },
  {
   "cell_type": "code",
   "execution_count": 11,
   "metadata": {},
   "outputs": [
    {
     "data": {
      "text/plain": [
       "(1956,)"
      ]
     },
     "execution_count": 11,
     "metadata": {},
     "output_type": "execute_result"
    }
   ],
   "source": [
    "reviews_text = pd.Series(normalized)\n",
    "reviews_text.shape"
   ]
  },
  {
   "cell_type": "code",
   "execution_count": 12,
   "metadata": {},
   "outputs": [
    {
     "data": {
      "text/plain": [
       "['huh', 'anyway', 'check', 'tube', 'channel', 'kobyoshi']"
      ]
     },
     "execution_count": 12,
     "metadata": {},
     "output_type": "execute_result"
    }
   ],
   "source": [
    "reviews_text[0]"
   ]
  },
  {
   "cell_type": "code",
   "execution_count": 13,
   "metadata": {},
   "outputs": [
    {
     "data": {
      "text/plain": [
       "(1956,)"
      ]
     },
     "execution_count": 13,
     "metadata": {},
     "output_type": "execute_result"
    }
   ],
   "source": [
    "review_labels = pd.Series(list(review_df['CLASS']))\n",
    "review_labels.shape"
   ]
  },
  {
   "cell_type": "code",
   "execution_count": 14,
   "metadata": {},
   "outputs": [
    {
     "data": {
      "text/plain": [
       "0    1\n",
       "1    1\n",
       "2    1\n",
       "3    1\n",
       "4    1\n",
       "dtype: int64"
      ]
     },
     "execution_count": 14,
     "metadata": {},
     "output_type": "execute_result"
    }
   ],
   "source": [
    "review_labels.head()"
   ]
  },
  {
   "cell_type": "code",
   "execution_count": 15,
   "metadata": {},
   "outputs": [
    {
     "data": {
      "text/html": [
       "<div>\n",
       "<style scoped>\n",
       "    .dataframe tbody tr th:only-of-type {\n",
       "        vertical-align: middle;\n",
       "    }\n",
       "\n",
       "    .dataframe tbody tr th {\n",
       "        vertical-align: top;\n",
       "    }\n",
       "\n",
       "    .dataframe thead th {\n",
       "        text-align: right;\n",
       "    }\n",
       "</style>\n",
       "<table border=\"1\" class=\"dataframe\">\n",
       "  <thead>\n",
       "    <tr style=\"text-align: right;\">\n",
       "      <th></th>\n",
       "      <th>text</th>\n",
       "      <th>label</th>\n",
       "    </tr>\n",
       "  </thead>\n",
       "  <tbody>\n",
       "    <tr>\n",
       "      <th>0</th>\n",
       "      <td>[huh, anyway, check, tube, channel, kobyoshi]</td>\n",
       "      <td>1</td>\n",
       "    </tr>\n",
       "    <tr>\n",
       "      <th>1</th>\n",
       "      <td>[hey, guy, check, new, channel, first, vid, mo...</td>\n",
       "      <td>1</td>\n",
       "    </tr>\n",
       "    <tr>\n",
       "      <th>2</th>\n",
       "      <td>[test, say, murdev, com]</td>\n",
       "      <td>1</td>\n",
       "    </tr>\n",
       "    <tr>\n",
       "      <th>3</th>\n",
       "      <td>[shake, sexi, as, channel, enjoy]</td>\n",
       "      <td>1</td>\n",
       "    </tr>\n",
       "    <tr>\n",
       "      <th>4</th>\n",
       "      <td>[watch, vtarggvgtwq, check]</td>\n",
       "      <td>1</td>\n",
       "    </tr>\n",
       "  </tbody>\n",
       "</table>\n",
       "</div>"
      ],
      "text/plain": [
       "                                                text  label\n",
       "0      [huh, anyway, check, tube, channel, kobyoshi]      1\n",
       "1  [hey, guy, check, new, channel, first, vid, mo...      1\n",
       "2                           [test, say, murdev, com]      1\n",
       "3                  [shake, sexi, as, channel, enjoy]      1\n",
       "4                        [watch, vtarggvgtwq, check]      1"
      ]
     },
     "execution_count": 15,
     "metadata": {},
     "output_type": "execute_result"
    }
   ],
   "source": [
    "reviews = pd.concat([reviews_text, review_labels], axis=1)\n",
    "reviews.columns = ['text', 'label']\n",
    "reviews.head()"
   ]
  },
  {
   "cell_type": "code",
   "execution_count": 16,
   "metadata": {},
   "outputs": [],
   "source": [
    "#Import all the dependencies\n",
    "from gensim.models.doc2vec import Doc2Vec, TaggedDocument\n",
    "from nltk.tokenize import word_tokenize"
   ]
  },
  {
   "cell_type": "code",
   "execution_count": 17,
   "metadata": {},
   "outputs": [
    {
     "data": {
      "text/plain": [
       "array([[list(['huh', 'anyway', 'check', 'tube', 'channel', 'kobyoshi']),\n",
       "        1],\n",
       "       [list(['hey', 'guy', 'check', 'new', 'channel', 'first', 'vid', 'monkey', 'monkey', 'white', 'shirt', 'pleas', 'leav', 'like', 'comment', 'pleas', 'subscrib']),\n",
       "        1]], dtype=object)"
      ]
     },
     "execution_count": 17,
     "metadata": {},
     "output_type": "execute_result"
    }
   ],
   "source": [
    "#reviews = review_df[['CONTENT', 'CLASS']]\n",
    "#reviews['label'] == -1\n",
    "## we do folloing recoding since Doc2Vec does not allow negative tags\n",
    "\n",
    "reviews = reviews.values\n",
    "reviews[:2]"
   ]
  },
  {
   "cell_type": "code",
   "execution_count": 18,
   "metadata": {},
   "outputs": [
    {
     "name": "stdout",
     "output_type": "stream",
     "text": [
      "['huh', 'anyway', 'check', 'tube', 'channel', 'kobyoshi'] 1 0\n"
     ]
    }
   ],
   "source": [
    "for idx, rev in enumerate(reviews):\n",
    "    print(rev[0], rev[1], idx)\n",
    "    break"
   ]
  },
  {
   "cell_type": "markdown",
   "metadata": {},
   "source": [
    "This shows the tokens as the first argument which are _tokens_ and _label_ as the second argument (`-1/1`) for `TaggedDocument`."
   ]
  },
  {
   "cell_type": "code",
   "execution_count": 26,
   "metadata": {},
   "outputs": [],
   "source": [
    "tagged_docs = [TaggedDocument(words=r[0], tags=[r[1]]) \n",
    "               for r in reviews]"
   ]
  },
  {
   "cell_type": "code",
   "execution_count": 27,
   "metadata": {},
   "outputs": [
    {
     "data": {
      "text/plain": [
       "list"
      ]
     },
     "execution_count": 27,
     "metadata": {},
     "output_type": "execute_result"
    }
   ],
   "source": [
    "type(tagged_docs)"
   ]
  },
  {
   "cell_type": "code",
   "execution_count": 28,
   "metadata": {},
   "outputs": [
    {
     "data": {
      "text/plain": [
       "[TaggedDocument(words=['huh', 'anyway', 'check', 'tube', 'channel', 'kobyoshi'], tags=[1]),\n",
       " TaggedDocument(words=['hey', 'guy', 'check', 'new', 'channel', 'first', 'vid', 'monkey', 'monkey', 'white', 'shirt', 'pleas', 'leav', 'like', 'comment', 'pleas', 'subscrib'], tags=[1])]"
      ]
     },
     "execution_count": 28,
     "metadata": {},
     "output_type": "execute_result"
    }
   ],
   "source": [
    "tagged_docs[:2]"
   ]
  },
  {
   "cell_type": "markdown",
   "metadata": {},
   "source": [
    "Save `tagged_docs` to disk so that we can reuse it."
   ]
  },
  {
   "cell_type": "code",
   "execution_count": 29,
   "metadata": {},
   "outputs": [],
   "source": [
    "import pickle\n",
    "\n",
    "with open('./amazon_data_20191202/tagged_docs-20191205.pkl', 'wb') as f:\n",
    "    pickle.dump(tagged_docs, f)"
   ]
  },
  {
   "cell_type": "markdown",
   "metadata": {},
   "source": [
    "## Checkpoint 1: Saved Tagged Documents\n",
    "\n",
    "If want to re-train the _Doc2Vec_ model, start here."
   ]
  },
  {
   "cell_type": "code",
   "execution_count": 30,
   "metadata": {},
   "outputs": [],
   "source": [
    "import pickle\n",
    "with open('./amazon_data_20191202/tagged_docs-20191205.pkl', 'rb') as f:\n",
    "    tagged_docs = pickle.load(f)"
   ]
  },
  {
   "cell_type": "markdown",
   "metadata": {},
   "source": [
    "These hyperparameters are suggested by previous analyses."
   ]
  },
  {
   "cell_type": "code",
   "execution_count": 31,
   "metadata": {},
   "outputs": [],
   "source": [
    "from gensim.models.doc2vec import Doc2Vec, TaggedDocument"
   ]
  },
  {
   "cell_type": "code",
   "execution_count": 32,
   "metadata": {},
   "outputs": [],
   "source": [
    "#cores = multiprocessing.cpu_count()\n",
    "max_epochs = 30\n",
    "#vec_size = 20\n",
    "alpha = 0.025\n",
    "\n",
    "model_dbow = Doc2Vec(dm=1, vector_size=300, negative=5, hs=0, min_count=2, sample = 0, \n",
    "                     workers=25, alpha=alpha, min_alpha=0.00025)\n",
    "model_dbow.build_vocab(tagged_docs)"
   ]
  },
  {
   "cell_type": "markdown",
   "metadata": {},
   "source": [
    "Other studies suggest training between 10 - 20 epochs."
   ]
  },
  {
   "cell_type": "code",
   "execution_count": 33,
   "metadata": {},
   "outputs": [
    {
     "name": "stdout",
     "output_type": "stream",
     "text": [
      "iteration 0\n",
      "iteration 1\n",
      "iteration 2\n",
      "iteration 3\n",
      "iteration 4\n",
      "iteration 5\n",
      "iteration 6\n",
      "iteration 7\n",
      "iteration 8\n",
      "iteration 9\n",
      "iteration 10\n",
      "iteration 11\n",
      "iteration 12\n",
      "iteration 13\n",
      "iteration 14\n",
      "iteration 15\n",
      "iteration 16\n",
      "iteration 17\n",
      "iteration 18\n",
      "iteration 19\n",
      "iteration 20\n",
      "iteration 21\n",
      "iteration 22\n",
      "iteration 23\n",
      "iteration 24\n",
      "iteration 25\n",
      "iteration 26\n",
      "iteration 27\n",
      "iteration 28\n",
      "iteration 29\n"
     ]
    }
   ],
   "source": [
    "for epoch in range(max_epochs):\n",
    "    print('iteration {0}'.format(epoch))\n",
    "    model_dbow.train(tagged_docs,\n",
    "                total_examples=model_dbow.corpus_count,\n",
    "                epochs=model_dbow.epochs) # use model_dbow.epochs instead\n",
    "    # decrease the learning rate\n",
    "    model_dbow.alpha -= 0.0002\n",
    "    # fix the learning rate, no decay\n",
    "    #model_dbow.min_alpha = model_dbow.alpha\n",
    "    \n",
    "model_dbow.save('./models/model.d2v')"
   ]
  },
  {
   "cell_type": "markdown",
   "metadata": {},
   "source": [
    "Saving and reading the model `model_dbow` to local so next time do not have to train again."
   ]
  },
  {
   "cell_type": "markdown",
   "metadata": {},
   "source": [
    "## Checkpoint 2: Saved Doc2Vec Model\n",
    "\n",
    "If want to used the trained `Doc2Vec` model, start here."
   ]
  },
  {
   "cell_type": "code",
   "execution_count": 34,
   "metadata": {},
   "outputs": [],
   "source": [
    "import gensim\n",
    "d2v_model = gensim.models.doc2vec.Doc2Vec.load('./models/model.d2v')"
   ]
  },
  {
   "cell_type": "code",
   "execution_count": 35,
   "metadata": {},
   "outputs": [],
   "source": [
    "def vector_for_learning(model, input_docs):\n",
    "    sents = input_docs\n",
    "    targets, feature_vectors = zip(*[(doc.tags[0], model.infer_vector(doc.words, steps=100)) for doc in sents])\n",
    "    return targets, feature_vectors"
   ]
  },
  {
   "cell_type": "code",
   "execution_count": 36,
   "metadata": {},
   "outputs": [],
   "source": [
    "tags, features = vector_for_learning(model_dbow, tagged_docs)"
   ]
  },
  {
   "cell_type": "code",
   "execution_count": 37,
   "metadata": {},
   "outputs": [],
   "source": [
    "with open('./amazon_data_20191202/features-20191205.pkl', 'wb') as f1:\n",
    "    pickle.dump(features, f1)\n",
    "    \n",
    "    \n",
    "with open('./amazon_data_20191202/tags-20191205.pkl', 'wb') as f2:\n",
    "    pickle.dump(tags, f2)"
   ]
  },
  {
   "cell_type": "markdown",
   "metadata": {},
   "source": [
    "Need to convernt tags and features to a DF so we can use following code."
   ]
  },
  {
   "cell_type": "code",
   "execution_count": 38,
   "metadata": {},
   "outputs": [],
   "source": [
    "import pickle\n",
    "\n",
    "with open('./amazon_data_20191202/features-20191205.pkl', 'rb') as f1:\n",
    "    features = pickle.load(f1)\n",
    "    \n",
    "with open('./amazon_data_20191202/tags-20191205.pkl', 'rb') as f2:\n",
    "    tags = pickle.load(f2)"
   ]
  },
  {
   "cell_type": "code",
   "execution_count": 39,
   "metadata": {},
   "outputs": [
    {
     "data": {
      "text/plain": [
       "(tuple, tuple)"
      ]
     },
     "execution_count": 39,
     "metadata": {},
     "output_type": "execute_result"
    }
   ],
   "source": [
    "type(tags), type(features)"
   ]
  },
  {
   "cell_type": "code",
   "execution_count": 40,
   "metadata": {},
   "outputs": [
    {
     "data": {
      "text/plain": [
       "(1, 1)"
      ]
     },
     "execution_count": 40,
     "metadata": {},
     "output_type": "execute_result"
    }
   ],
   "source": [
    "tags[:2]"
   ]
  },
  {
   "cell_type": "code",
   "execution_count": 41,
   "metadata": {},
   "outputs": [
    {
     "data": {
      "text/plain": [
       "1956"
      ]
     },
     "execution_count": 41,
     "metadata": {},
     "output_type": "execute_result"
    }
   ],
   "source": [
    "len(features)"
   ]
  },
  {
   "cell_type": "code",
   "execution_count": 42,
   "metadata": {},
   "outputs": [
    {
     "data": {
      "text/plain": [
       "1956"
      ]
     },
     "execution_count": 42,
     "metadata": {},
     "output_type": "execute_result"
    }
   ],
   "source": [
    "len(tags)"
   ]
  },
  {
   "cell_type": "code",
   "execution_count": 43,
   "metadata": {},
   "outputs": [
    {
     "data": {
      "text/html": [
       "<div>\n",
       "<style scoped>\n",
       "    .dataframe tbody tr th:only-of-type {\n",
       "        vertical-align: middle;\n",
       "    }\n",
       "\n",
       "    .dataframe tbody tr th {\n",
       "        vertical-align: top;\n",
       "    }\n",
       "\n",
       "    .dataframe thead th {\n",
       "        text-align: right;\n",
       "    }\n",
       "</style>\n",
       "<table border=\"1\" class=\"dataframe\">\n",
       "  <thead>\n",
       "    <tr style=\"text-align: right;\">\n",
       "      <th></th>\n",
       "      <th>0</th>\n",
       "    </tr>\n",
       "  </thead>\n",
       "  <tbody>\n",
       "    <tr>\n",
       "      <th>0</th>\n",
       "      <td>1</td>\n",
       "    </tr>\n",
       "    <tr>\n",
       "      <th>1</th>\n",
       "      <td>1</td>\n",
       "    </tr>\n",
       "    <tr>\n",
       "      <th>2</th>\n",
       "      <td>1</td>\n",
       "    </tr>\n",
       "    <tr>\n",
       "      <th>3</th>\n",
       "      <td>1</td>\n",
       "    </tr>\n",
       "    <tr>\n",
       "      <th>4</th>\n",
       "      <td>1</td>\n",
       "    </tr>\n",
       "  </tbody>\n",
       "</table>\n",
       "</div>"
      ],
      "text/plain": [
       "   0\n",
       "0  1\n",
       "1  1\n",
       "2  1\n",
       "3  1\n",
       "4  1"
      ]
     },
     "execution_count": 43,
     "metadata": {},
     "output_type": "execute_result"
    }
   ],
   "source": [
    "import pandas as pd\n",
    "tags_col = pd.DataFrame(tags)\n",
    "tags_col.head()"
   ]
  },
  {
   "cell_type": "code",
   "execution_count": 44,
   "metadata": {},
   "outputs": [
    {
     "data": {
      "text/plain": [
       "(1956, 300)"
      ]
     },
     "execution_count": 44,
     "metadata": {},
     "output_type": "execute_result"
    }
   ],
   "source": [
    "features_df = pd.DataFrame(features)\n",
    "features_df.shape"
   ]
  },
  {
   "cell_type": "code",
   "execution_count": 45,
   "metadata": {},
   "outputs": [
    {
     "data": {
      "text/plain": [
       "(1956, 301)"
      ]
     },
     "execution_count": 45,
     "metadata": {},
     "output_type": "execute_result"
    }
   ],
   "source": [
    "data = pd.concat([features_df, tags_col], axis=1)\n",
    "data.shape"
   ]
  },
  {
   "cell_type": "code",
   "execution_count": 46,
   "metadata": {
    "scrolled": true
   },
   "outputs": [
    {
     "data": {
      "text/plain": [
       "['w0', 'w1']"
      ]
     },
     "execution_count": 46,
     "metadata": {},
     "output_type": "execute_result"
    }
   ],
   "source": [
    "cols = ['w' + str(i) for i in range(300)]\n",
    "cols[:2]"
   ]
  },
  {
   "cell_type": "code",
   "execution_count": 47,
   "metadata": {},
   "outputs": [
    {
     "data": {
      "text/plain": [
       "300"
      ]
     },
     "execution_count": 47,
     "metadata": {},
     "output_type": "execute_result"
    }
   ],
   "source": [
    "len(cols)"
   ]
  },
  {
   "cell_type": "code",
   "execution_count": 48,
   "metadata": {},
   "outputs": [
    {
     "data": {
      "text/plain": [
       "'label'"
      ]
     },
     "execution_count": 48,
     "metadata": {},
     "output_type": "execute_result"
    }
   ],
   "source": [
    "cols.append('label')\n",
    "cols[-1]"
   ]
  },
  {
   "cell_type": "code",
   "execution_count": 49,
   "metadata": {},
   "outputs": [],
   "source": [
    "data.columns = cols"
   ]
  },
  {
   "cell_type": "markdown",
   "metadata": {},
   "source": [
    "### Split Data\n",
    "\n",
    "Note: only used recommended reviews (label == 1) to train AEs."
   ]
  },
  {
   "cell_type": "code",
   "execution_count": 74,
   "metadata": {},
   "outputs": [
    {
     "data": {
      "text/plain": [
       "((1760, 300), (196, 300), (196,))"
      ]
     },
     "execution_count": 74,
     "metadata": {},
     "output_type": "execute_result"
    }
   ],
   "source": [
    "from sklearn.model_selection import train_test_split\n",
    "X_train, X_test = train_test_split(data, test_size=0.1, random_state=2019)\n",
    "#X_train = X_train[X_train.label == 1]\n",
    "X_train = X_train.drop(['label'], axis=1)\n",
    "y_test = X_test['label']\n",
    "X_test = X_test.drop(['label'], axis=1)\n",
    "X_train = X_train.values\n",
    "X_test = X_test.values\n",
    "X_train.shape, X_test.shape, y_test.shape"
   ]
  },
  {
   "cell_type": "markdown",
   "metadata": {},
   "source": [
    "# Basic AutoEncoder"
   ]
  },
  {
   "cell_type": "code",
   "execution_count": 75,
   "metadata": {},
   "outputs": [],
   "source": [
    "from keras.models import Model, load_model\n",
    "from keras.layers import Input, Dense, LSTM\n",
    "from keras.callbacks import ModelCheckpoint, TensorBoard, EarlyStopping\n",
    "from keras import regularizers"
   ]
  },
  {
   "cell_type": "code",
   "execution_count": 76,
   "metadata": {},
   "outputs": [],
   "source": [
    "input_dim = X_train.shape[1]\n",
    "encoding_dim = 128\n",
    "input_layer = Input(shape=(input_dim, ))\n",
    "encoder = Dense(encoding_dim, activation=\"tanh\", \n",
    "                activity_regularizer=regularizers.l1(10e-5))(input_layer)\n",
    "encoder = Dense(int(encoding_dim / 2), activation=\"relu\")(encoder)\n",
    "decoder = Dense(int(encoding_dim / 2), activation='tanh')(encoder)\n",
    "decoder = Dense(input_dim, activation='relu')(decoder)\n",
    "autoencoder = Model(inputs=input_layer, outputs=decoder)"
   ]
  },
  {
   "cell_type": "code",
   "execution_count": 77,
   "metadata": {},
   "outputs": [
    {
     "name": "stdout",
     "output_type": "stream",
     "text": [
      "Train on 1760 samples, validate on 196 samples\n",
      "Epoch 1/100\n",
      "1760/1760 [==============================] - 1s 289us/step - loss: 0.1015 - acc: 0.0483 - val_loss: 0.0722 - val_acc: 0.1173\n",
      "Epoch 2/100\n",
      "1760/1760 [==============================] - 0s 168us/step - loss: 0.0717 - acc: 0.1227 - val_loss: 0.0649 - val_acc: 0.1582\n",
      "Epoch 3/100\n",
      "1760/1760 [==============================] - 0s 167us/step - loss: 0.0654 - acc: 0.1608 - val_loss: 0.0579 - val_acc: 0.2296\n",
      "Epoch 4/100\n",
      "1760/1760 [==============================] - 0s 174us/step - loss: 0.0624 - acc: 0.1614 - val_loss: 0.0563 - val_acc: 0.2194\n",
      "Epoch 5/100\n",
      "1760/1760 [==============================] - 0s 163us/step - loss: 0.0601 - acc: 0.1807 - val_loss: 0.0538 - val_acc: 0.2296\n",
      "Epoch 6/100\n",
      "1760/1760 [==============================] - 0s 166us/step - loss: 0.0589 - acc: 0.1852 - val_loss: 0.0533 - val_acc: 0.2551\n",
      "Epoch 7/100\n",
      "1760/1760 [==============================] - 0s 163us/step - loss: 0.0583 - acc: 0.2216 - val_loss: 0.0525 - val_acc: 0.2755\n",
      "Epoch 8/100\n",
      "1760/1760 [==============================] - 0s 168us/step - loss: 0.0569 - acc: 0.2426 - val_loss: 0.0514 - val_acc: 0.2806\n",
      "Epoch 9/100\n",
      "1760/1760 [==============================] - 0s 175us/step - loss: 0.0564 - acc: 0.2619 - val_loss: 0.0511 - val_acc: 0.2908\n",
      "Epoch 10/100\n",
      "1760/1760 [==============================] - 0s 166us/step - loss: 0.0559 - acc: 0.2659 - val_loss: 0.0504 - val_acc: 0.2908\n",
      "Epoch 11/100\n",
      "1760/1760 [==============================] - 0s 175us/step - loss: 0.0555 - acc: 0.2903 - val_loss: 0.0502 - val_acc: 0.2908\n",
      "Epoch 12/100\n",
      "1760/1760 [==============================] - 0s 179us/step - loss: 0.0554 - acc: 0.2812 - val_loss: 0.0501 - val_acc: 0.3214\n",
      "Epoch 13/100\n",
      "1760/1760 [==============================] - 0s 167us/step - loss: 0.0550 - acc: 0.2994 - val_loss: 0.0495 - val_acc: 0.3469\n",
      "Epoch 14/100\n",
      "1760/1760 [==============================] - 0s 170us/step - loss: 0.0544 - acc: 0.3136 - val_loss: 0.0494 - val_acc: 0.3469\n",
      "Epoch 15/100\n",
      "1760/1760 [==============================] - 0s 175us/step - loss: 0.0543 - acc: 0.3085 - val_loss: 0.0516 - val_acc: 0.1735\n",
      "Epoch 16/100\n",
      "1760/1760 [==============================] - 0s 178us/step - loss: 0.0547 - acc: 0.3148 - val_loss: 0.0489 - val_acc: 0.4133\n",
      "Epoch 17/100\n",
      "1760/1760 [==============================] - 0s 166us/step - loss: 0.0539 - acc: 0.3409 - val_loss: 0.0488 - val_acc: 0.3878\n",
      "Epoch 18/100\n",
      "1760/1760 [==============================] - 0s 168us/step - loss: 0.0536 - acc: 0.3443 - val_loss: 0.0484 - val_acc: 0.4082\n",
      "Epoch 19/100\n",
      "1760/1760 [==============================] - 0s 179us/step - loss: 0.0532 - acc: 0.3602 - val_loss: 0.0478 - val_acc: 0.4337\n",
      "Epoch 20/100\n",
      "1760/1760 [==============================] - 0s 177us/step - loss: 0.0525 - acc: 0.3710 - val_loss: 0.0477 - val_acc: 0.4031\n",
      "Epoch 21/100\n",
      "1760/1760 [==============================] - 0s 175us/step - loss: 0.0528 - acc: 0.3699 - val_loss: 0.0482 - val_acc: 0.3827\n",
      "Epoch 22/100\n",
      "1760/1760 [==============================] - 0s 177us/step - loss: 0.0531 - acc: 0.3687 - val_loss: 0.0477 - val_acc: 0.4286\n",
      "Epoch 23/100\n",
      "1760/1760 [==============================] - 0s 175us/step - loss: 0.0524 - acc: 0.3898 - val_loss: 0.0475 - val_acc: 0.4592\n",
      "Epoch 24/100\n",
      "1760/1760 [==============================] - 0s 166us/step - loss: 0.0518 - acc: 0.3977 - val_loss: 0.0471 - val_acc: 0.4031\n",
      "Epoch 25/100\n",
      "1760/1760 [==============================] - 0s 173us/step - loss: 0.0520 - acc: 0.3886 - val_loss: 0.0474 - val_acc: 0.4490\n",
      "Epoch 26/100\n",
      "1760/1760 [==============================] - 0s 172us/step - loss: 0.0521 - acc: 0.3937 - val_loss: 0.0470 - val_acc: 0.5000\n",
      "Epoch 27/100\n",
      "1760/1760 [==============================] - 0s 170us/step - loss: 0.0519 - acc: 0.4068 - val_loss: 0.0468 - val_acc: 0.4592\n",
      "Epoch 28/100\n",
      "1760/1760 [==============================] - 0s 173us/step - loss: 0.0518 - acc: 0.3960 - val_loss: 0.0471 - val_acc: 0.5051\n",
      "Epoch 29/100\n",
      "1760/1760 [==============================] - 0s 175us/step - loss: 0.0516 - acc: 0.4159 - val_loss: 0.0470 - val_acc: 0.5357\n",
      "Epoch 30/100\n",
      "1760/1760 [==============================] - 0s 174us/step - loss: 0.0520 - acc: 0.3818 - val_loss: 0.0472 - val_acc: 0.4184\n",
      "Epoch 31/100\n",
      "1760/1760 [==============================] - 0s 171us/step - loss: 0.0518 - acc: 0.3955 - val_loss: 0.0467 - val_acc: 0.4796\n",
      "Epoch 32/100\n",
      "1760/1760 [==============================] - 0s 153us/step - loss: 0.0513 - acc: 0.4210 - val_loss: 0.0467 - val_acc: 0.4592\n",
      "Epoch 33/100\n",
      "1760/1760 [==============================] - 0s 170us/step - loss: 0.0510 - acc: 0.4267 - val_loss: 0.0461 - val_acc: 0.5255\n",
      "Epoch 34/100\n",
      "1760/1760 [==============================] - 0s 174us/step - loss: 0.0512 - acc: 0.4148 - val_loss: 0.0466 - val_acc: 0.4694\n",
      "Epoch 35/100\n",
      "1760/1760 [==============================] - 0s 154us/step - loss: 0.0513 - acc: 0.4148 - val_loss: 0.0463 - val_acc: 0.4898\n",
      "Epoch 36/100\n",
      "1760/1760 [==============================] - 0s 176us/step - loss: 0.0509 - acc: 0.4403 - val_loss: 0.0462 - val_acc: 0.5510\n",
      "Epoch 37/100\n",
      "1760/1760 [==============================] - 0s 179us/step - loss: 0.0509 - acc: 0.4386 - val_loss: 0.0460 - val_acc: 0.5102\n",
      "Epoch 38/100\n",
      "1760/1760 [==============================] - 0s 163us/step - loss: 0.0506 - acc: 0.4398 - val_loss: 0.0464 - val_acc: 0.4541\n",
      "Epoch 39/100\n",
      "1760/1760 [==============================] - 0s 156us/step - loss: 0.0509 - acc: 0.4205 - val_loss: 0.0459 - val_acc: 0.4949\n",
      "Epoch 40/100\n",
      "1760/1760 [==============================] - 0s 176us/step - loss: 0.0508 - acc: 0.4335 - val_loss: 0.0463 - val_acc: 0.5102\n",
      "Epoch 41/100\n",
      "1760/1760 [==============================] - 0s 178us/step - loss: 0.0510 - acc: 0.4267 - val_loss: 0.0458 - val_acc: 0.5459\n",
      "Epoch 42/100\n",
      "1760/1760 [==============================] - 0s 169us/step - loss: 0.0507 - acc: 0.4409 - val_loss: 0.0458 - val_acc: 0.5255\n",
      "Epoch 43/100\n",
      "1760/1760 [==============================] - 0s 172us/step - loss: 0.0503 - acc: 0.4631 - val_loss: 0.0458 - val_acc: 0.5102\n",
      "Epoch 44/100\n",
      "1760/1760 [==============================] - 0s 186us/step - loss: 0.0503 - acc: 0.4591 - val_loss: 0.0456 - val_acc: 0.4949\n",
      "Epoch 45/100\n",
      "1760/1760 [==============================] - 0s 174us/step - loss: 0.0506 - acc: 0.4545 - val_loss: 0.0456 - val_acc: 0.4847\n",
      "Epoch 46/100\n",
      "1760/1760 [==============================] - 0s 176us/step - loss: 0.0501 - acc: 0.4699 - val_loss: 0.0460 - val_acc: 0.5510\n",
      "Epoch 47/100\n",
      "1760/1760 [==============================] - 0s 177us/step - loss: 0.0508 - acc: 0.4477 - val_loss: 0.0458 - val_acc: 0.5408\n",
      "Epoch 48/100\n",
      "1760/1760 [==============================] - 0s 178us/step - loss: 0.0504 - acc: 0.4449 - val_loss: 0.0454 - val_acc: 0.5204\n",
      "Epoch 49/100\n",
      "1760/1760 [==============================] - 0s 177us/step - loss: 0.0501 - acc: 0.4688 - val_loss: 0.0455 - val_acc: 0.4694\n",
      "Epoch 50/100\n",
      "1760/1760 [==============================] - 0s 181us/step - loss: 0.0505 - acc: 0.4438 - val_loss: 0.0460 - val_acc: 0.5204\n",
      "Epoch 51/100\n",
      "1760/1760 [==============================] - 0s 175us/step - loss: 0.0506 - acc: 0.4597 - val_loss: 0.0454 - val_acc: 0.5408\n",
      "Epoch 52/100\n",
      "1760/1760 [==============================] - 0s 179us/step - loss: 0.0501 - acc: 0.4665 - val_loss: 0.0454 - val_acc: 0.5102\n",
      "Epoch 53/100\n",
      "1760/1760 [==============================] - 0s 172us/step - loss: 0.0500 - acc: 0.4813 - val_loss: 0.0455 - val_acc: 0.5306\n",
      "Epoch 54/100\n",
      "1760/1760 [==============================] - 0s 160us/step - loss: 0.0499 - acc: 0.4733 - val_loss: 0.0454 - val_acc: 0.5357\n",
      "Epoch 55/100\n",
      "1760/1760 [==============================] - 0s 166us/step - loss: 0.0500 - acc: 0.4784 - val_loss: 0.0459 - val_acc: 0.4490\n",
      "Epoch 56/100\n",
      "1760/1760 [==============================] - 0s 173us/step - loss: 0.0501 - acc: 0.4932 - val_loss: 0.0452 - val_acc: 0.5510\n",
      "Epoch 57/100\n",
      "1760/1760 [==============================] - 0s 165us/step - loss: 0.0498 - acc: 0.4932 - val_loss: 0.0458 - val_acc: 0.5051\n",
      "Epoch 58/100\n",
      "1760/1760 [==============================] - 0s 157us/step - loss: 0.0498 - acc: 0.4989 - val_loss: 0.0452 - val_acc: 0.5051\n",
      "Epoch 59/100\n",
      "1760/1760 [==============================] - 0s 171us/step - loss: 0.0499 - acc: 0.4841 - val_loss: 0.0450 - val_acc: 0.5357\n",
      "Epoch 60/100\n"
     ]
    },
    {
     "name": "stdout",
     "output_type": "stream",
     "text": [
      "1760/1760 [==============================] - 0s 175us/step - loss: 0.0497 - acc: 0.4898 - val_loss: 0.0452 - val_acc: 0.5204\n",
      "Epoch 61/100\n",
      "1760/1760 [==============================] - 0s 179us/step - loss: 0.0499 - acc: 0.4807 - val_loss: 0.0450 - val_acc: 0.5408\n",
      "Epoch 62/100\n",
      "1760/1760 [==============================] - 0s 170us/step - loss: 0.0498 - acc: 0.4960 - val_loss: 0.0454 - val_acc: 0.5969\n",
      "Epoch 63/100\n",
      "1760/1760 [==============================] - 0s 173us/step - loss: 0.0499 - acc: 0.5125 - val_loss: 0.0452 - val_acc: 0.5663\n",
      "Epoch 64/100\n",
      "1760/1760 [==============================] - 0s 173us/step - loss: 0.0496 - acc: 0.5153 - val_loss: 0.0450 - val_acc: 0.5663\n",
      "Epoch 65/100\n",
      "1760/1760 [==============================] - 0s 174us/step - loss: 0.0501 - acc: 0.4818 - val_loss: 0.0462 - val_acc: 0.5612\n",
      "Epoch 66/100\n",
      "1760/1760 [==============================] - 0s 177us/step - loss: 0.0508 - acc: 0.4841 - val_loss: 0.0452 - val_acc: 0.5612\n",
      "Epoch 67/100\n",
      "1760/1760 [==============================] - 0s 180us/step - loss: 0.0499 - acc: 0.4932 - val_loss: 0.0453 - val_acc: 0.5357\n",
      "Epoch 68/100\n",
      "1760/1760 [==============================] - 0s 181us/step - loss: 0.0500 - acc: 0.5040 - val_loss: 0.0455 - val_acc: 0.5255\n",
      "Epoch 69/100\n",
      "1760/1760 [==============================] - 0s 175us/step - loss: 0.0498 - acc: 0.4886 - val_loss: 0.0449 - val_acc: 0.5867\n",
      "Epoch 70/100\n",
      "1760/1760 [==============================] - 0s 174us/step - loss: 0.0495 - acc: 0.5182 - val_loss: 0.0447 - val_acc: 0.5765\n",
      "Epoch 71/100\n",
      "1760/1760 [==============================] - 0s 172us/step - loss: 0.0495 - acc: 0.5205 - val_loss: 0.0451 - val_acc: 0.5510\n",
      "Epoch 72/100\n",
      "1760/1760 [==============================] - 0s 171us/step - loss: 0.0500 - acc: 0.5131 - val_loss: 0.0451 - val_acc: 0.5255\n",
      "Epoch 73/100\n",
      "1760/1760 [==============================] - 0s 173us/step - loss: 0.0494 - acc: 0.5420 - val_loss: 0.0449 - val_acc: 0.5867\n",
      "Epoch 74/100\n",
      "1760/1760 [==============================] - 0s 175us/step - loss: 0.0494 - acc: 0.5239 - val_loss: 0.0448 - val_acc: 0.5459\n",
      "Epoch 75/100\n",
      "1760/1760 [==============================] - 0s 174us/step - loss: 0.0493 - acc: 0.5267 - val_loss: 0.0448 - val_acc: 0.5714\n",
      "Epoch 00075: early stopping\n"
     ]
    }
   ],
   "source": [
    "nb_epoch = 100\n",
    "batch_size = 32\n",
    "\n",
    "autoencoder.compile(optimizer='adam', \n",
    "                    loss='mean_squared_error', \n",
    "                    metrics=['accuracy'])\n",
    "\n",
    "checkpointer = ModelCheckpoint(filepath=\"model.h5\",\n",
    "                               verbose=0,\n",
    "                               save_best_only=True)\n",
    "tensorboard = TensorBoard(log_dir='./logs',\n",
    "                          histogram_freq=0,\n",
    "                          write_graph=True,\n",
    "                          write_images=True)\n",
    "\n",
    "es = EarlyStopping(monitor='val_loss', mode='min', verbose=1, patience=5)\n",
    "\n",
    "history = autoencoder.fit(X_train, X_train,\n",
    "                    epochs=nb_epoch,\n",
    "                    batch_size=batch_size,\n",
    "                    shuffle=True,\n",
    "                    validation_data=(X_test, X_test),\n",
    "                    verbose=1,\n",
    "                    callbacks=[checkpointer, tensorboard, es]).history"
   ]
  },
  {
   "cell_type": "code",
   "execution_count": 78,
   "metadata": {},
   "outputs": [
    {
     "data": {
      "image/png": "[encoded data removed]",
      "text/plain": [
       "<Figure size 864x576 with 1 Axes>"
      ]
     },
     "metadata": {
      "needs_background": "light"
     },
     "output_type": "display_data"
    }
   ],
   "source": [
    "plt.figure(figsize=(12,8))\n",
    "plt.plot(history['loss'])\n",
    "plt.plot(history['val_loss'])\n",
    "plt.title('model loss')\n",
    "plt.ylabel('loss')\n",
    "plt.xlabel('epoch')\n",
    "plt.legend(['train', 'test'], loc='upper right');"
   ]
  },
  {
   "cell_type": "code",
   "execution_count": 79,
   "metadata": {},
   "outputs": [],
   "source": [
    "predictions = autoencoder.predict(X_test)"
   ]
  },
  {
   "cell_type": "code",
   "execution_count": 80,
   "metadata": {},
   "outputs": [],
   "source": [
    "import numpy as np\n",
    "\n",
    "mse = np.mean(np.power(X_test - predictions, 2), axis=1)\n",
    "error_df = pd.DataFrame({'reconstruction_error': mse,\n",
    "                        'true_class': y_test})"
   ]
  },
  {
   "cell_type": "code",
   "execution_count": 81,
   "metadata": {},
   "outputs": [
    {
     "data": {
      "text/html": [
       "<div>\n",
       "<style scoped>\n",
       "    .dataframe tbody tr th:only-of-type {\n",
       "        vertical-align: middle;\n",
       "    }\n",
       "\n",
       "    .dataframe tbody tr th {\n",
       "        vertical-align: top;\n",
       "    }\n",
       "\n",
       "    .dataframe thead th {\n",
       "        text-align: right;\n",
       "    }\n",
       "</style>\n",
       "<table border=\"1\" class=\"dataframe\">\n",
       "  <thead>\n",
       "    <tr style=\"text-align: right;\">\n",
       "      <th></th>\n",
       "      <th>reconstruction_error</th>\n",
       "      <th>true_class</th>\n",
       "    </tr>\n",
       "  </thead>\n",
       "  <tbody>\n",
       "    <tr>\n",
       "      <th>count</th>\n",
       "      <td>196.000000</td>\n",
       "      <td>196.000000</td>\n",
       "    </tr>\n",
       "    <tr>\n",
       "      <th>mean</th>\n",
       "      <td>0.041956</td>\n",
       "      <td>0.520408</td>\n",
       "    </tr>\n",
       "    <tr>\n",
       "      <th>std</th>\n",
       "      <td>0.047795</td>\n",
       "      <td>0.500863</td>\n",
       "    </tr>\n",
       "    <tr>\n",
       "      <th>min</th>\n",
       "      <td>0.003568</td>\n",
       "      <td>0.000000</td>\n",
       "    </tr>\n",
       "    <tr>\n",
       "      <th>25%</th>\n",
       "      <td>0.012720</td>\n",
       "      <td>0.000000</td>\n",
       "    </tr>\n",
       "    <tr>\n",
       "      <th>50%</th>\n",
       "      <td>0.023938</td>\n",
       "      <td>1.000000</td>\n",
       "    </tr>\n",
       "    <tr>\n",
       "      <th>75%</th>\n",
       "      <td>0.046876</td>\n",
       "      <td>1.000000</td>\n",
       "    </tr>\n",
       "    <tr>\n",
       "      <th>max</th>\n",
       "      <td>0.251860</td>\n",
       "      <td>1.000000</td>\n",
       "    </tr>\n",
       "  </tbody>\n",
       "</table>\n",
       "</div>"
      ],
      "text/plain": [
       "       reconstruction_error  true_class\n",
       "count            196.000000  196.000000\n",
       "mean               0.041956    0.520408\n",
       "std                0.047795    0.500863\n",
       "min                0.003568    0.000000\n",
       "25%                0.012720    0.000000\n",
       "50%                0.023938    1.000000\n",
       "75%                0.046876    1.000000\n",
       "max                0.251860    1.000000"
      ]
     },
     "execution_count": 81,
     "metadata": {},
     "output_type": "execute_result"
    }
   ],
   "source": [
    "error_df.describe()"
   ]
  },
  {
   "cell_type": "code",
   "execution_count": 82,
   "metadata": {},
   "outputs": [],
   "source": [
    "from sklearn.metrics import (confusion_matrix, precision_recall_curve, auc,\n",
    "                             roc_curve, recall_score, classification_report, f1_score,\n",
    "                             precision_recall_fscore_support)"
   ]
  },
  {
   "cell_type": "code",
   "execution_count": 83,
   "metadata": {},
   "outputs": [
    {
     "data": {
      "image/png": "[encoded data removed]",
      "text/plain": [
       "<Figure size 864x576 with 1 Axes>"
      ]
     },
     "metadata": {
      "needs_background": "light"
     },
     "output_type": "display_data"
    }
   ],
   "source": [
    "fpr, tpr, thresholds = roc_curve(error_df.true_class, error_df.reconstruction_error)\n",
    "roc_auc = auc(fpr, tpr)\n",
    "plt.figure(figsize=(12,8))\n",
    "plt.title('Receiver Operating Characteristic')\n",
    "plt.plot(fpr, tpr, label='AUC = %0.4f'% roc_auc)\n",
    "plt.legend(loc='lower right')\n",
    "plt.plot([0,1],[0,1],'g--')\n",
    "plt.xlim([-0.001, 1])\n",
    "plt.ylim([0, 1.001])\n",
    "plt.ylabel('True Positive Rate')\n",
    "plt.xlabel('False Positive Rate')\n",
    "plt.show();"
   ]
  },
  {
   "cell_type": "code",
   "execution_count": 84,
   "metadata": {},
   "outputs": [
    {
     "data": {
      "image/png": "[encoded data removed]",
      "text/plain": [
       "<Figure size 864x576 with 1 Axes>"
      ]
     },
     "metadata": {
      "needs_background": "light"
     },
     "output_type": "display_data"
    }
   ],
   "source": [
    "threshold = 0.1\n",
    "\n",
    "groups = error_df.groupby('true_class')\n",
    "fig, ax = plt.subplots(figsize=(12,8))\n",
    "\n",
    "for name, group in groups:\n",
    "    ax.plot(group.index, group.reconstruction_error, marker='o', ms=3.5, linestyle='',\n",
    "            label= \"Normal\" if name == 1 else \"Fake\")\n",
    "ax.hlines(threshold, ax.get_xlim()[0], ax.get_xlim()[1], colors=\"black\", zorder=100, label='Threshold')\n",
    "ax.legend()\n",
    "plt.title(\"Reconstruction error for different classes\")\n",
    "plt.ylabel(\"Reconstruction error\")\n",
    "plt.xlabel(\"Data point index\")\n",
    "plt.show();"
   ]
  },
  {
   "cell_type": "code",
   "execution_count": 85,
   "metadata": {},
   "outputs": [
    {
     "data": {
      "image/png": "[encoded data removed]",
      "text/plain": [
       "<Figure size 864x576 with 2 Axes>"
      ]
     },
     "metadata": {
      "needs_background": "light"
     },
     "output_type": "display_data"
    }
   ],
   "source": [
    "import seaborn as sns\n",
    "labels = ['fake', 'normal']\n",
    "y_pred = [1 if e > threshold else 0 for e in error_df.reconstruction_error.values]\n",
    "conf_matrix = confusion_matrix(error_df.true_class, y_pred)\n",
    "#plt.rcParams.update({'font.size': 22})\n",
    "plt.figure(figsize=(12, 8))\n",
    "sns.heatmap(conf_matrix, xticklabels=labels, yticklabels=labels, annot=True, fmt=\"d\");\n",
    "plt.title(\"Confusion matrix\")\n",
    "plt.ylabel('True class')\n",
    "plt.xlabel('Predicted class')\n",
    "plt.show()"
   ]
  },
  {
   "cell_type": "code",
   "execution_count": 86,
   "metadata": {},
   "outputs": [],
   "source": [
    "X_train_reshaped = X_train.reshape(X_train.shape[0], 1, X_train.shape[1])\n",
    "X_test_reshaped = X_test.reshape(X_test.shape[0], 1, X_test.shape[1])"
   ]
  },
  {
   "cell_type": "code",
   "execution_count": 87,
   "metadata": {},
   "outputs": [
    {
     "name": "stdout",
     "output_type": "stream",
     "text": [
      "_________________________________________________________________\n",
      "Layer (type)                 Output Shape              Param #   \n",
      "=================================================================\n",
      "input_4 (InputLayer)         (None, 1, 300)            0         \n",
      "_________________________________________________________________\n",
      "lstm_5 (LSTM)                (None, 1, 128)            219648    \n",
      "_________________________________________________________________\n",
      "lstm_6 (LSTM)                (None, 32)                20608     \n",
      "_________________________________________________________________\n",
      "repeat_vector_2 (RepeatVecto (None, 1, 32)             0         \n",
      "_________________________________________________________________\n",
      "lstm_7 (LSTM)                (None, 1, 32)             8320      \n",
      "_________________________________________________________________\n",
      "lstm_8 (LSTM)                (None, 1, 128)            82432     \n",
      "_________________________________________________________________\n",
      "time_distributed_2 (TimeDist (None, 1, 300)            38700     \n",
      "=================================================================\n",
      "Total params: 369,708\n",
      "Trainable params: 369,708\n",
      "Non-trainable params: 0\n",
      "_________________________________________________________________\n"
     ]
    }
   ],
   "source": [
    "from keras.layers import RepeatVector, TimeDistributed\n",
    "#input_dim = X_train_reshaped.shape[1]\n",
    "encoding_dim = 128\n",
    "input_layer = Input(shape=(X_train_reshaped.shape[1], X_train_reshaped.shape[2]))\n",
    "encoder = LSTM(encoding_dim, activation=\"relu\", return_sequences=True,\n",
    "                activity_regularizer=regularizers.l1(10e-5))(input_layer)\n",
    "#encoder = LSTM(int(encoding_dim/2), activation=\"relu\", return_sequences=True,\n",
    "                #activity_regularizer=regularizers.l1(10e-5))(encoder)\n",
    "encoder = LSTM(int(encoding_dim/4), activation=\"relu\", return_sequences=False)(encoder)\n",
    "L3 = RepeatVector(X_train_reshaped.shape[1])(encoder)\n",
    "decoder = LSTM(int(encoding_dim/4), activation='relu', return_sequences=True)(L3)\n",
    "#decoder = LSTM(int(encoding_dim/2), activation='relu', return_sequences=True)(decoder)\n",
    "decoder = LSTM(encoding_dim, activation='relu', return_sequences=True)(decoder)\n",
    "output = TimeDistributed(Dense(X_train_reshaped.shape[2]))(decoder)\n",
    "lstm_ae = Model(inputs=input_layer, outputs=output)\n",
    "\n",
    "lstm_ae.summary()"
   ]
  },
  {
   "cell_type": "code",
   "execution_count": 88,
   "metadata": {},
   "outputs": [
    {
     "name": "stdout",
     "output_type": "stream",
     "text": [
      "Train on 1760 samples, validate on 196 samples\n",
      "Epoch 1/100\n",
      "1760/1760 [==============================] - 3s 2ms/step - loss: 0.0670 - acc: 0.0716 - val_loss: 0.0443 - val_acc: 0.0867\n",
      "Epoch 2/100\n",
      "1760/1760 [==============================] - 1s 585us/step - loss: 0.0416 - acc: 0.0824 - val_loss: 0.0326 - val_acc: 0.1020\n",
      "Epoch 3/100\n",
      "1760/1760 [==============================] - 1s 607us/step - loss: 0.0382 - acc: 0.1085 - val_loss: 0.0325 - val_acc: 0.1020\n",
      "Epoch 4/100\n",
      "1760/1760 [==============================] - 1s 583us/step - loss: 0.0381 - acc: 0.1085 - val_loss: 0.0326 - val_acc: 0.1020\n",
      "Epoch 5/100\n",
      "1760/1760 [==============================] - 1s 619us/step - loss: 0.0381 - acc: 0.1085 - val_loss: 0.0327 - val_acc: 0.1020\n",
      "Epoch 6/100\n",
      "1760/1760 [==============================] - 1s 626us/step - loss: 0.0381 - acc: 0.1085 - val_loss: 0.0327 - val_acc: 0.1020\n",
      "Epoch 7/100\n",
      "1760/1760 [==============================] - 1s 629us/step - loss: 0.0379 - acc: 0.1085 - val_loss: 0.0323 - val_acc: 0.1020\n",
      "Epoch 8/100\n",
      "1760/1760 [==============================] - 1s 576us/step - loss: 0.0369 - acc: 0.1085 - val_loss: 0.0289 - val_acc: 0.1020\n",
      "Epoch 9/100\n",
      "1760/1760 [==============================] - 1s 601us/step - loss: 0.0274 - acc: 0.1085 - val_loss: 0.0219 - val_acc: 0.1020\n",
      "Epoch 10/100\n",
      "1760/1760 [==============================] - 1s 584us/step - loss: 0.0212 - acc: 0.1386 - val_loss: 0.0192 - val_acc: 0.1531\n",
      "Epoch 11/100\n",
      "1760/1760 [==============================] - 1s 639us/step - loss: 0.0192 - acc: 0.1489 - val_loss: 0.0187 - val_acc: 0.1531\n",
      "Epoch 12/100\n",
      "1760/1760 [==============================] - 1s 620us/step - loss: 0.0187 - acc: 0.1540 - val_loss: 0.0184 - val_acc: 0.1939\n",
      "Epoch 13/100\n",
      "1760/1760 [==============================] - 1s 613us/step - loss: 0.0183 - acc: 0.1540 - val_loss: 0.0184 - val_acc: 0.1684\n",
      "Epoch 14/100\n",
      "1760/1760 [==============================] - 1s 610us/step - loss: 0.0181 - acc: 0.1517 - val_loss: 0.0182 - val_acc: 0.1786\n",
      "Epoch 15/100\n",
      "1760/1760 [==============================] - 1s 598us/step - loss: 0.0181 - acc: 0.1659 - val_loss: 0.0182 - val_acc: 0.2041\n",
      "Epoch 16/100\n",
      "1760/1760 [==============================] - 1s 593us/step - loss: 0.0180 - acc: 0.1614 - val_loss: 0.0184 - val_acc: 0.2143\n",
      "Epoch 17/100\n",
      "1760/1760 [==============================] - 1s 624us/step - loss: 0.0180 - acc: 0.1602 - val_loss: 0.0181 - val_acc: 0.2143\n",
      "Epoch 18/100\n",
      "1760/1760 [==============================] - 1s 595us/step - loss: 0.0178 - acc: 0.1631 - val_loss: 0.0180 - val_acc: 0.2041\n",
      "Epoch 19/100\n",
      "1760/1760 [==============================] - 1s 622us/step - loss: 0.0178 - acc: 0.1625 - val_loss: 0.0180 - val_acc: 0.2092\n",
      "Epoch 20/100\n",
      "1760/1760 [==============================] - 1s 603us/step - loss: 0.0179 - acc: 0.1659 - val_loss: 0.0183 - val_acc: 0.2143\n",
      "Epoch 21/100\n",
      "1760/1760 [==============================] - 1s 591us/step - loss: 0.0178 - acc: 0.1693 - val_loss: 0.0179 - val_acc: 0.2143\n",
      "Epoch 22/100\n",
      "1760/1760 [==============================] - 1s 613us/step - loss: 0.0178 - acc: 0.1659 - val_loss: 0.0180 - val_acc: 0.2143\n",
      "Epoch 23/100\n",
      "1760/1760 [==============================] - 1s 594us/step - loss: 0.0178 - acc: 0.1722 - val_loss: 0.0179 - val_acc: 0.2041\n",
      "Epoch 24/100\n",
      "1760/1760 [==============================] - 1s 650us/step - loss: 0.0177 - acc: 0.1733 - val_loss: 0.0181 - val_acc: 0.2143\n",
      "Epoch 25/100\n",
      "1760/1760 [==============================] - 1s 639us/step - loss: 0.0177 - acc: 0.1670 - val_loss: 0.0180 - val_acc: 0.1888\n",
      "Epoch 26/100\n",
      "1760/1760 [==============================] - 1s 635us/step - loss: 0.0177 - acc: 0.1653 - val_loss: 0.0179 - val_acc: 0.2092\n",
      "Epoch 27/100\n",
      "1760/1760 [==============================] - 1s 642us/step - loss: 0.0177 - acc: 0.1693 - val_loss: 0.0179 - val_acc: 0.2092\n",
      "Epoch 28/100\n",
      "1760/1760 [==============================] - 1s 618us/step - loss: 0.0177 - acc: 0.1705 - val_loss: 0.0179 - val_acc: 0.2092\n",
      "Epoch 29/100\n",
      "1760/1760 [==============================] - 1s 598us/step - loss: 0.0177 - acc: 0.1722 - val_loss: 0.0179 - val_acc: 0.2143\n",
      "Epoch 30/100\n",
      "1760/1760 [==============================] - 1s 601us/step - loss: 0.0177 - acc: 0.1761 - val_loss: 0.0178 - val_acc: 0.2092\n",
      "Epoch 31/100\n",
      "1760/1760 [==============================] - 1s 596us/step - loss: 0.0177 - acc: 0.1767 - val_loss: 0.0180 - val_acc: 0.2143\n",
      "Epoch 32/100\n",
      "1760/1760 [==============================] - 1s 616us/step - loss: 0.0176 - acc: 0.1705 - val_loss: 0.0179 - val_acc: 0.2092\n",
      "Epoch 33/100\n",
      "1760/1760 [==============================] - 1s 617us/step - loss: 0.0177 - acc: 0.1761 - val_loss: 0.0178 - val_acc: 0.2143\n",
      "Epoch 34/100\n",
      "1760/1760 [==============================] - 1s 589us/step - loss: 0.0176 - acc: 0.1716 - val_loss: 0.0178 - val_acc: 0.2143\n",
      "Epoch 35/100\n",
      "1760/1760 [==============================] - 1s 582us/step - loss: 0.0177 - acc: 0.1744 - val_loss: 0.0179 - val_acc: 0.2092\n",
      "Epoch 36/100\n",
      "1760/1760 [==============================] - 1s 621us/step - loss: 0.0176 - acc: 0.1733 - val_loss: 0.0178 - val_acc: 0.2143\n",
      "Epoch 37/100\n",
      "1760/1760 [==============================] - 1s 602us/step - loss: 0.0176 - acc: 0.1722 - val_loss: 0.0178 - val_acc: 0.2041\n",
      "Epoch 38/100\n",
      "1760/1760 [==============================] - 1s 617us/step - loss: 0.0176 - acc: 0.1733 - val_loss: 0.0178 - val_acc: 0.2143\n",
      "Epoch 39/100\n",
      "1760/1760 [==============================] - 1s 594us/step - loss: 0.0176 - acc: 0.1756 - val_loss: 0.0180 - val_acc: 0.2041\n",
      "Epoch 40/100\n",
      "1760/1760 [==============================] - 1s 623us/step - loss: 0.0176 - acc: 0.1756 - val_loss: 0.0178 - val_acc: 0.2092\n",
      "Epoch 41/100\n",
      "1760/1760 [==============================] - 1s 611us/step - loss: 0.0175 - acc: 0.1739 - val_loss: 0.0177 - val_acc: 0.2092\n",
      "Epoch 42/100\n",
      "1760/1760 [==============================] - 1s 608us/step - loss: 0.0175 - acc: 0.1767 - val_loss: 0.0177 - val_acc: 0.2143\n",
      "Epoch 43/100\n",
      "1760/1760 [==============================] - 1s 599us/step - loss: 0.0175 - acc: 0.1739 - val_loss: 0.0178 - val_acc: 0.2092\n",
      "Epoch 44/100\n",
      "1760/1760 [==============================] - 1s 628us/step - loss: 0.0177 - acc: 0.1756 - val_loss: 0.0178 - val_acc: 0.2041\n",
      "Epoch 45/100\n",
      "1760/1760 [==============================] - 1s 600us/step - loss: 0.0175 - acc: 0.1722 - val_loss: 0.0177 - val_acc: 0.2092\n",
      "Epoch 46/100\n",
      "1760/1760 [==============================] - 1s 649us/step - loss: 0.0175 - acc: 0.1727 - val_loss: 0.0178 - val_acc: 0.2092\n",
      "Epoch 47/100\n",
      "1760/1760 [==============================] - 1s 629us/step - loss: 0.0175 - acc: 0.1767 - val_loss: 0.0177 - val_acc: 0.2041\n",
      "Epoch 48/100\n",
      "1760/1760 [==============================] - 1s 613us/step - loss: 0.0175 - acc: 0.1750 - val_loss: 0.0177 - val_acc: 0.2041\n",
      "Epoch 49/100\n",
      "1760/1760 [==============================] - 1s 611us/step - loss: 0.0176 - acc: 0.1727 - val_loss: 0.0177 - val_acc: 0.2092\n",
      "Epoch 50/100\n",
      "1760/1760 [==============================] - 1s 612us/step - loss: 0.0175 - acc: 0.1727 - val_loss: 0.0177 - val_acc: 0.2092\n",
      "Epoch 51/100\n",
      "1760/1760 [==============================] - 1s 650us/step - loss: 0.0175 - acc: 0.1778 - val_loss: 0.0176 - val_acc: 0.2092\n",
      "Epoch 52/100\n",
      "1760/1760 [==============================] - 1s 649us/step - loss: 0.0175 - acc: 0.1733 - val_loss: 0.0177 - val_acc: 0.2092\n",
      "Epoch 53/100\n",
      "1760/1760 [==============================] - 1s 622us/step - loss: 0.0176 - acc: 0.1778 - val_loss: 0.0178 - val_acc: 0.2143\n",
      "Epoch 54/100\n",
      "1760/1760 [==============================] - 1s 612us/step - loss: 0.0175 - acc: 0.1744 - val_loss: 0.0176 - val_acc: 0.2092\n",
      "Epoch 55/100\n",
      "1760/1760 [==============================] - 1s 622us/step - loss: 0.0175 - acc: 0.1750 - val_loss: 0.0177 - val_acc: 0.2143\n",
      "Epoch 56/100\n",
      "1760/1760 [==============================] - 1s 607us/step - loss: 0.0174 - acc: 0.1756 - val_loss: 0.0176 - val_acc: 0.2143\n",
      "Epoch 57/100\n",
      "1760/1760 [==============================] - 1s 637us/step - loss: 0.0174 - acc: 0.1744 - val_loss: 0.0176 - val_acc: 0.2092\n",
      "Epoch 58/100\n",
      "1760/1760 [==============================] - 1s 614us/step - loss: 0.0174 - acc: 0.1756 - val_loss: 0.0176 - val_acc: 0.2092\n",
      "Epoch 59/100\n",
      "1760/1760 [==============================] - 1s 627us/step - loss: 0.0174 - acc: 0.1767 - val_loss: 0.0176 - val_acc: 0.2092\n",
      "Epoch 60/100\n"
     ]
    },
    {
     "name": "stdout",
     "output_type": "stream",
     "text": [
      "1760/1760 [==============================] - 1s 601us/step - loss: 0.0174 - acc: 0.1767 - val_loss: 0.0176 - val_acc: 0.2143\n",
      "Epoch 61/100\n",
      "1760/1760 [==============================] - 1s 604us/step - loss: 0.0174 - acc: 0.1750 - val_loss: 0.0176 - val_acc: 0.2092\n",
      "Epoch 00061: early stopping\n"
     ]
    }
   ],
   "source": [
    "nb_epoch = 100\n",
    "batch_size = 32\n",
    "\n",
    "lstm_ae.compile(optimizer='adam', \n",
    "                    loss='mean_squared_error', \n",
    "                    metrics=['accuracy'])\n",
    "\n",
    "checkpointer = ModelCheckpoint(filepath=\"model.h5\",\n",
    "                               verbose=0,\n",
    "                               save_best_only=True)\n",
    "tensorboard = TensorBoard(log_dir='./logs',\n",
    "                          histogram_freq=0,\n",
    "                          write_graph=True,\n",
    "                          write_images=True)\n",
    "\n",
    "hist1 = lstm_ae.fit(X_train_reshaped, X_train_reshaped,\n",
    "                    epochs=nb_epoch,\n",
    "                    batch_size=batch_size,\n",
    "                    shuffle=True,\n",
    "                    validation_data=(X_test_reshaped, X_test_reshaped),\n",
    "                    verbose=1,\n",
    "                    callbacks=[checkpointer, tensorboard,es]).history"
   ]
  },
  {
   "cell_type": "code",
   "execution_count": 89,
   "metadata": {},
   "outputs": [
    {
     "data": {
      "image/png": "[encoded data removed]",
      "text/plain": [
       "<Figure size 864x576 with 1 Axes>"
      ]
     },
     "metadata": {
      "needs_background": "light"
     },
     "output_type": "display_data"
    }
   ],
   "source": [
    "plt.figure(figsize=(12,8))\n",
    "plt.plot(hist1['loss'])\n",
    "plt.plot(hist1['val_loss'])\n",
    "plt.title('model loss')\n",
    "plt.ylabel('loss')\n",
    "plt.xlabel('epoch')\n",
    "plt.legend(['train', 'test'], loc='upper right');"
   ]
  },
  {
   "cell_type": "code",
   "execution_count": 90,
   "metadata": {},
   "outputs": [],
   "source": [
    "predictions = lstm_ae.predict(X_test_reshaped)\n",
    "predictions = predictions.reshape(predictions.shape[0], predictions.shape[2])"
   ]
  },
  {
   "cell_type": "code",
   "execution_count": 91,
   "metadata": {},
   "outputs": [],
   "source": [
    "mse = np.mean(np.power(X_test - predictions, 2), axis=1)\n",
    "error_df = pd.DataFrame({'reconstruction_error': mse,\n",
    "                        'true_class': y_test})"
   ]
  },
  {
   "cell_type": "code",
   "execution_count": 92,
   "metadata": {},
   "outputs": [
    {
     "data": {
      "text/html": [
       "<div>\n",
       "<style scoped>\n",
       "    .dataframe tbody tr th:only-of-type {\n",
       "        vertical-align: middle;\n",
       "    }\n",
       "\n",
       "    .dataframe tbody tr th {\n",
       "        vertical-align: top;\n",
       "    }\n",
       "\n",
       "    .dataframe thead th {\n",
       "        text-align: right;\n",
       "    }\n",
       "</style>\n",
       "<table border=\"1\" class=\"dataframe\">\n",
       "  <thead>\n",
       "    <tr style=\"text-align: right;\">\n",
       "      <th></th>\n",
       "      <th>reconstruction_error</th>\n",
       "      <th>true_class</th>\n",
       "    </tr>\n",
       "  </thead>\n",
       "  <tbody>\n",
       "    <tr>\n",
       "      <th>count</th>\n",
       "      <td>196.000000</td>\n",
       "      <td>196.000000</td>\n",
       "    </tr>\n",
       "    <tr>\n",
       "      <th>mean</th>\n",
       "      <td>0.017192</td>\n",
       "      <td>0.520408</td>\n",
       "    </tr>\n",
       "    <tr>\n",
       "      <th>std</th>\n",
       "      <td>0.014187</td>\n",
       "      <td>0.500863</td>\n",
       "    </tr>\n",
       "    <tr>\n",
       "      <th>min</th>\n",
       "      <td>0.001101</td>\n",
       "      <td>0.000000</td>\n",
       "    </tr>\n",
       "    <tr>\n",
       "      <th>25%</th>\n",
       "      <td>0.006079</td>\n",
       "      <td>0.000000</td>\n",
       "    </tr>\n",
       "    <tr>\n",
       "      <th>50%</th>\n",
       "      <td>0.014766</td>\n",
       "      <td>1.000000</td>\n",
       "    </tr>\n",
       "    <tr>\n",
       "      <th>75%</th>\n",
       "      <td>0.024850</td>\n",
       "      <td>1.000000</td>\n",
       "    </tr>\n",
       "    <tr>\n",
       "      <th>max</th>\n",
       "      <td>0.080230</td>\n",
       "      <td>1.000000</td>\n",
       "    </tr>\n",
       "  </tbody>\n",
       "</table>\n",
       "</div>"
      ],
      "text/plain": [
       "       reconstruction_error  true_class\n",
       "count            196.000000  196.000000\n",
       "mean               0.017192    0.520408\n",
       "std                0.014187    0.500863\n",
       "min                0.001101    0.000000\n",
       "25%                0.006079    0.000000\n",
       "50%                0.014766    1.000000\n",
       "75%                0.024850    1.000000\n",
       "max                0.080230    1.000000"
      ]
     },
     "execution_count": 92,
     "metadata": {},
     "output_type": "execute_result"
    }
   ],
   "source": [
    "error_df.describe()"
   ]
  },
  {
   "cell_type": "code",
   "execution_count": 93,
   "metadata": {},
   "outputs": [
    {
     "data": {
      "image/png": "[encoded data removed]",
      "text/plain": [
       "<Figure size 864x576 with 1 Axes>"
      ]
     },
     "metadata": {
      "needs_background": "light"
     },
     "output_type": "display_data"
    }
   ],
   "source": [
    "fpr, tpr, thresholds = roc_curve(error_df.true_class, error_df.reconstruction_error)\n",
    "roc_auc = auc(fpr, tpr)\n",
    "plt.figure(figsize=(12,8))\n",
    "plt.title('Receiver Operating Characteristic')\n",
    "plt.plot(fpr, tpr, label='AUC = %0.4f'% roc_auc)\n",
    "plt.legend(loc='lower right')\n",
    "plt.plot([0,1],[0,1],'g--')\n",
    "plt.xlim([-0.001, 1])\n",
    "plt.ylim([0, 1.001])\n",
    "plt.ylabel('True Positive Rate')\n",
    "plt.xlabel('False Positive Rate')\n",
    "plt.show();"
   ]
  },
  {
   "cell_type": "code",
   "execution_count": 97,
   "metadata": {},
   "outputs": [
    {
     "data": {
      "image/png": "[encoded data removed]",
      "text/plain": [
       "<Figure size 864x576 with 1 Axes>"
      ]
     },
     "metadata": {
      "needs_background": "light"
     },
     "output_type": "display_data"
    }
   ],
   "source": [
    "threshold = 0.02\n",
    "\n",
    "groups = error_df.groupby('true_class')\n",
    "fig, ax = plt.subplots(figsize=(12,8))\n",
    "\n",
    "for name, group in groups:\n",
    "    ax.plot(group.index, group.reconstruction_error, marker='o', ms=3.5, linestyle='',\n",
    "            label= \"Normal\" if name == 1 else \"Fraud\")\n",
    "ax.hlines(threshold, ax.get_xlim()[0], ax.get_xlim()[1], colors=\"r\", zorder=100, label='Threshold')\n",
    "ax.legend()\n",
    "plt.title(\"Reconstruction error for different classes\")\n",
    "plt.ylabel(\"Reconstruction error\")\n",
    "plt.xlabel(\"Data point index\")\n",
    "plt.show();"
   ]
  },
  {
   "cell_type": "code",
   "execution_count": 98,
   "metadata": {},
   "outputs": [
    {
     "data": {
      "image/png": "[encoded data removed]",
      "text/plain": [
       "<Figure size 864x864 with 2 Axes>"
      ]
     },
     "metadata": {
      "needs_background": "light"
     },
     "output_type": "display_data"
    }
   ],
   "source": [
    "y_pred = [1 if e > threshold else 0 for e in error_df.reconstruction_error.values]\n",
    "conf_matrix = confusion_matrix(error_df.true_class, y_pred)\n",
    "#plt.rcParams.update({'font.size': 22})\n",
    "plt.figure(figsize=(12, 12))\n",
    "sns.heatmap(conf_matrix, xticklabels=labels, yticklabels=labels, annot=True, fmt=\"d\");\n",
    "plt.title(\"Confusion matrix\")\n",
    "plt.ylabel('True class')\n",
    "plt.xlabel('Predicted class')\n",
    "plt.show()"
   ]
  },
  {
   "cell_type": "code",
   "execution_count": null,
   "metadata": {},
   "outputs": [],
   "source": []
  }
 ],
 "metadata": {
  "kernelspec": {
   "display_name": "Python [conda env:tf_gpu] *",
   "language": "python",
   "name": "conda-env-tf_gpu-py"
  },
  "language_info": {
   "codemirror_mode": {
    "name": "ipython",
    "version": 3
   },
   "file_extension": ".py",
   "mimetype": "text/x-python",
   "name": "python",
   "nbconvert_exporter": "python",
   "pygments_lexer": "ipython3",
   "version": "3.7.3"
  }
 },
 "nbformat": 4,
 "nbformat_minor": 2
}
